{
  "nbformat": 4,
  "nbformat_minor": 0,
  "metadata": {
    "colab": {
      "provenance": []
    },
    "kernelspec": {
      "name": "python3",
      "display_name": "Python 3"
    },
    "language_info": {
      "name": "python"
    }
  },
  "cells": [
    {
      "cell_type": "markdown",
      "source": [
        "***jour 0***"
      ],
      "metadata": {
        "id": "_N82XcDstJQ7"
      }
    },
    {
      "cell_type": "code",
      "execution_count": 5,
      "metadata": {
        "id": "Shq1Kn2BsuAW"
      },
      "outputs": [],
      "source": [
        "def factorielle(n):\n",
        "  if n==0 :\n",
        "    return 1\n",
        "  else:\n",
        "    return n*factorielle(n-1)\n",
        "  "
      ]
    },
    {
      "cell_type": "code",
      "source": [
        "n=int(input('entrer un nombre entier : '))\n",
        "factorielle(n)"
      ],
      "metadata": {
        "colab": {
          "base_uri": "https://localhost:8080/"
        },
        "id": "0jr57qR2tGtZ",
        "outputId": "2e36f98f-13e6-4869-b4a3-d95ff2b959a1"
      },
      "execution_count": 8,
      "outputs": [
        {
          "name": "stdout",
          "output_type": "stream",
          "text": [
            "entrer un nombre entier : 2\n"
          ]
        },
        {
          "output_type": "execute_result",
          "data": {
            "text/plain": [
              "2"
            ]
          },
          "metadata": {},
          "execution_count": 8
        }
      ]
    },
    {
      "cell_type": "markdown",
      "source": [
        "***jour 0.1***"
      ],
      "metadata": {
        "id": "euARoKFxtgYb"
      }
    },
    {
      "cell_type": "code",
      "source": [
        "def puissance(x,n):\n",
        "  if n==0:\n",
        "    return 1\n",
        "  elif n==1:\n",
        "    return x\n",
        "  else:\n",
        "    return x*puissance(x,n-1)\n"
      ],
      "metadata": {
        "id": "BBPl-cWstkjn"
      },
      "execution_count": 9,
      "outputs": []
    },
    {
      "cell_type": "code",
      "source": [
        "n=int(input('entrer un nombre entier : '))\n",
        "x=float(input('entrer un nombre  : '))\n",
        "puissance(x,n)"
      ],
      "metadata": {
        "colab": {
          "base_uri": "https://localhost:8080/"
        },
        "id": "gEIZrrQSut-1",
        "outputId": "c195b9a8-f855-4a1a-c7b2-4bb1c3770926"
      },
      "execution_count": 15,
      "outputs": [
        {
          "name": "stdout",
          "output_type": "stream",
          "text": [
            "entrer un nombre entier : 2\n",
            "entrer un nombre  : 2.5\n"
          ]
        },
        {
          "output_type": "execute_result",
          "data": {
            "text/plain": [
              "6.25"
            ]
          },
          "metadata": {},
          "execution_count": 15
        }
      ]
    },
    {
      "cell_type": "markdown",
      "source": [
        "***Jour 03***"
      ],
      "metadata": {
        "id": "6GXN_RervdgE"
      }
    },
    {
      "cell_type": "code",
      "source": [],
      "metadata": {
        "id": "Ui3qz4x4vcMQ"
      },
      "execution_count": null,
      "outputs": []
    }
  ]
}