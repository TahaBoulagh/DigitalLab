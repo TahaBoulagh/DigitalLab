{
 "cells": [
  {
   "cell_type": "markdown",
   "id": "2a25c14b-8031-44b7-b3a3-5703e718de80",
   "metadata": {},
   "source": [
    "## Job 2\n"
   ]
  },
  {
   "cell_type": "code",
   "execution_count": 1,
   "id": "20575021-d517-4110-b904-faa0e8dcd319",
   "metadata": {},
   "outputs": [
    {
     "data": {
      "text/plain": [
       "30"
      ]
     },
     "execution_count": 1,
     "metadata": {},
     "output_type": "execute_result"
    }
   ],
   "source": [
    "10*3"
   ]
  },
  {
   "cell_type": "code",
   "execution_count": 2,
   "id": "974196c9-f05f-45a0-92cc-2d5b89b4584c",
   "metadata": {},
   "outputs": [
    {
     "data": {
      "text/plain": [
       "7"
      ]
     },
     "execution_count": 2,
     "metadata": {},
     "output_type": "execute_result"
    }
   ],
   "source": [
    "10-3"
   ]
  },
  {
   "cell_type": "markdown",
   "id": "202bd542-2b7d-4516-88e0-238f045e0a1a",
   "metadata": {},
   "source": [
    "## Job 7"
   ]
  },
  {
   "cell_type": "code",
   "execution_count": 4,
   "id": "25a1bc90-84cc-472a-a32f-50fcfaf26b43",
   "metadata": {},
   "outputs": [
    {
     "data": {
      "text/plain": [
       "11"
      ]
     },
     "execution_count": 4,
     "metadata": {},
     "output_type": "execute_result"
    }
   ],
   "source": [
    "def add(n,m):\n",
    "    return n+m\n",
    "add(5,6)"
   ]
  },
  {
   "cell_type": "markdown",
   "id": "4d05169e-7198-47e1-9147-6a06bea8d243",
   "metadata": {},
   "source": [
    "## Job 11"
   ]
  },
  {
   "cell_type": "code",
   "execution_count": 7,
   "id": "4034ef25-e0ae-44d3-8495-b109b88af5e7",
   "metadata": {},
   "outputs": [
    {
     "name": "stdin",
     "output_type": "stream",
     "text": [
      "renseigner ton prénom Taha\n"
     ]
    },
    {
     "name": "stdout",
     "output_type": "stream",
     "text": [
      "Hello Taha!\n"
     ]
    }
   ],
   "source": [
    "xx = input(\"renseigner ton prénom\")\n",
    "print(\"Hello \" + xx +\"!\")"
   ]
  },
  {
   "cell_type": "markdown",
   "id": "36e90142-6f21-4160-938b-0fadde5c430d",
   "metadata": {},
   "source": [
    "## Job 13"
   ]
  },
  {
   "cell_type": "code",
   "execution_count": null,
   "id": "2bd78f30-adac-4a66-9932-be792b31f040",
   "metadata": {},
   "outputs": [],
   "source": [
    "L = []\n",
    "for i in range(0,5):\n",
    "    x = input(\"entrer un nombre entier\")\n",
    "    L.append(x)\n",
    "L.sort() \n",
    "print(L)"
   ]
  },
  {
   "cell_type": "markdown",
   "id": "b6e45e77-c244-4e32-826d-9313d88ce746",
   "metadata": {},
   "source": [
    "## Job 17"
   ]
  },
  {
   "cell_type": "code",
   "execution_count": 12,
   "id": "c9f6d4d2-8025-4c97-97de-1d2707809915",
   "metadata": {},
   "outputs": [
    {
     "name": "stdout",
     "output_type": "stream",
     "text": [
      "[1, 2, 'Fizz', 3, 4, 'Buzz', 'Fizz', 6, 7, 8, 'Fizz', 9, 'Buzz', 11, 'Fizz', 12, 13, 14, 'FizzBuzz', 'Fizz', 'Buzz', 16, 17, 'Fizz', 18, 19, 'Buzz', 'Fizz', 21, 22, 23, 'Fizz', 24, 'Buzz', 26, 'Fizz', 27, 28, 29, 'FizzBuzz', 'Fizz', 'Buzz', 31, 32, 'Fizz', 33, 34, 'Buzz', 'Fizz', 36, 37, 38, 'Fizz', 39, 'Buzz', 41, 'Fizz', 42, 43, 44, 'FizzBuzz', 'Fizz', 'Buzz', 46, 47, 'Fizz', 48, 49, 'Buzz', 'Fizz', 51, 52, 53, 'Fizz', 54, 'Buzz', 56, 'Fizz', 57, 58, 59, 'FizzBuzz', 'Fizz', 'Buzz', 61, 62, 'Fizz', 63, 64, 'Buzz', 'Fizz', 66, 67, 68, 'Fizz', 69, 'Buzz', 71, 'Fizz', 72, 73, 74, 'FizzBuzz', 'Fizz', 'Buzz', 76, 77, 'Fizz', 78, 79, 'Buzz', 'Fizz', 81, 82, 83, 'Fizz', 84, 'Buzz', 86, 'Fizz', 87, 88, 89, 'FizzBuzz', 'Fizz', 'Buzz', 91, 92, 'Fizz', 93, 94, 'Buzz', 'Fizz', 96, 97, 98, 'Fizz', 99, 'Buzz']\n"
     ]
    }
   ],
   "source": [
    "L=[]\n",
    "for i in range (1,101):\n",
    "    if i%3 ==0 and i%5 ==0:\n",
    "        L.append(\"FizzBuzz\")\n",
    "    if i%3 ==0:\n",
    "        L.append(\"Fizz\")\n",
    "    if i%5 == 0:\n",
    "        L.append(\"Buzz\")\n",
    "    else:\n",
    "        L.append(i)\n",
    "print(L)        \n",
    "        "
   ]
  },
  {
   "cell_type": "markdown",
   "id": "8d1c5b0b-0d42-4f59-ad16-42b477d46aee",
   "metadata": {},
   "source": [
    "## Job 19"
   ]
  },
  {
   "cell_type": "code",
   "execution_count": 17,
   "id": "33739efd-6e4b-44b0-97d1-5081b7f3bb65",
   "metadata": {},
   "outputs": [
    {
     "name": "stdout",
     "output_type": "stream",
     "text": [
      "----------\n",
      "|||\n"
     ]
    }
   ],
   "source": [
    "#draw_rectangle(10, 3)\n",
    "def draw_rectangle(n,m):\n",
    "    A = np.zeros(n,m)\n",
    "    for i in range(m):\n",
    "        A[i][0] = 1\n",
    "        A[i][m-1] = 1\n",
    "        A[0][i]=2\n",
    "        A[m-1][i]=2\n",
    "        \n",
    "        \n",
    "        \n",
    "    \n",
    "\n",
    "    "
   ]
  },
  {
   "cell_type": "code",
   "execution_count": 43,
   "id": "9a2fcdb3-24ab-4fee-833c-b35b50dcd038",
   "metadata": {},
   "outputs": [
    {
     "name": "stdout",
     "output_type": "stream",
     "text": [
      "|----------|\n",
      "|          |\n",
      "|----------|\n"
     ]
    }
   ],
   "source": [
    "def draw_rectangle(n,m):\n",
    "    for i in range(m):\n",
    "        if i == 0 :\n",
    "            print(\"|\" + n*\"-\" + \"|\")\n",
    "        elif i == m-1 :\n",
    "            print(\"|\" + n*\"-\" + \"|\")\n",
    "        else:\n",
    "            print(\"|\" + n*\" \" + \"|\")\n",
    "\n",
    "draw_rectangle(10,3)    \n",
    " \n",
    "       "
   ]
  },
  {
   "cell_type": "markdown",
   "id": "0c47067c-6cf8-40bd-a7c7-c5e6d9a0e067",
   "metadata": {},
   "source": [
    "## Job 23"
   ]
  },
  {
   "cell_type": "code",
   "execution_count": 170,
   "id": "30d01e30-ee64-4b77-b66a-55e1f36d22d8",
   "metadata": {},
   "outputs": [
    {
     "name": "stdout",
     "output_type": "stream",
     "text": [
      "     /\\\n",
      "    /  \\\n",
      "   /    \\\n",
      "  /      \\\n",
      " /________\\\n"
     ]
    }
   ],
   "source": [
    "def draw_triangle(n):\n",
    "    for i in range(n):\n",
    "        if i <= n-2:\n",
    "            print((n-i)*\" \"+\"/\" + 2*i*\" \" + \"\\\\\")\n",
    "        else:\n",
    "            print((n-i)*\" \"+\"/\" + 2*i*\"_\" + \"\\\\\")\n",
    "            \n",
    "       \n",
    "\n",
    "draw_triangle(5)                  \n"
   ]
  },
  {
   "cell_type": "markdown",
   "id": "46ee337e-9ba6-4754-b191-c006d01500d0",
   "metadata": {},
   "source": [
    "## Job 29"
   ]
  },
  {
   "cell_type": "code",
   "execution_count": 156,
   "id": "95095365-cc64-41d5-a9bc-d376b73aa407",
   "metadata": {},
   "outputs": [
    {
     "data": {
      "text/plain": [
       "[80, 82, 85]"
      ]
     },
     "execution_count": 156,
     "metadata": {},
     "output_type": "execute_result"
    }
   ],
   "source": [
    "def arrondie(L):\n",
    "    L_arrondie=[]\n",
    "    for e in L:\n",
    "        if (e+1) % 5 ==0:\n",
    "            j= e +1\n",
    "        elif (e+2) % 5 ==0:\n",
    "            j = e+2\n",
    "        else :\n",
    "            j = e\n",
    "        L_arrondie.append(j) \n",
    "    return L_arrondie   \n",
    "arrondie([80,82,85])        "
   ]
  },
  {
   "cell_type": "markdown",
   "id": "eaaf62c1-9b97-4c5b-870f-ba8bc4d24f0e",
   "metadata": {},
   "source": [
    "## Job 31"
   ]
  },
  {
   "cell_type": "code",
   "execution_count": 172,
   "id": "62dd74ca-7822-441f-a697-a64874382f9b",
   "metadata": {},
   "outputs": [
    {
     "name": "stdin",
     "output_type": "stream",
     "text": [
      "Enter a name abzft\n"
     ]
    },
    {
     "ename": "TypeError",
     "evalue": "can only concatenate str (not \"int\") to str",
     "output_type": "error",
     "traceback": [
      "\u001b[1;31m---------------------------------------------------------------------------\u001b[0m",
      "\u001b[1;31mTypeError\u001b[0m                                 Traceback (most recent call last)",
      "\u001b[1;32m<ipython-input-172-432c7f2df4d0>\u001b[0m in \u001b[0;36m<module>\u001b[1;34m\u001b[0m\n\u001b[0;32m     20\u001b[0m             \u001b[1;33m(\u001b[0m\u001b[0mk\u001b[0m\u001b[1;33m,\u001b[0m\u001b[0ml\u001b[0m\u001b[1;33m)\u001b[0m \u001b[1;33m=\u001b[0m \u001b[0mcle\u001b[0m\u001b[1;33m\u001b[0m\u001b[1;33m\u001b[0m\u001b[0m\n\u001b[0;32m     21\u001b[0m             \u001b[0mprint\u001b[0m\u001b[1;33m(\u001b[0m\u001b[1;33m(\u001b[0m\u001b[0mk\u001b[0m\u001b[1;33m,\u001b[0m\u001b[0ml\u001b[0m\u001b[1;33m)\u001b[0m\u001b[1;33m)\u001b[0m\u001b[1;33m\u001b[0m\u001b[1;33m\u001b[0m\u001b[0m\n\u001b[1;32m---> 22\u001b[1;33m \u001b[0mjob_31\u001b[0m\u001b[1;33m(\u001b[0m\u001b[1;34m\"abzft\"\u001b[0m\u001b[1;33m)\u001b[0m\u001b[1;33m\u001b[0m\u001b[1;33m\u001b[0m\u001b[0m\n\u001b[0m\u001b[0;32m     23\u001b[0m \u001b[1;33m\u001b[0m\u001b[0m\n\u001b[0;32m     24\u001b[0m \u001b[1;33m\u001b[0m\u001b[0m\n",
      "\u001b[1;32m<ipython-input-172-432c7f2df4d0>\u001b[0m in \u001b[0;36mjob_31\u001b[1;34m(x)\u001b[0m\n\u001b[0;32m     10\u001b[0m         \u001b[0mL\u001b[0m\u001b[1;33m.\u001b[0m\u001b[0mappend\u001b[0m\u001b[1;33m(\u001b[0m\u001b[0me\u001b[0m\u001b[1;33m)\u001b[0m\u001b[1;33m\u001b[0m\u001b[1;33m\u001b[0m\u001b[0m\n\u001b[0;32m     11\u001b[0m     \u001b[1;32mfor\u001b[0m \u001b[0mi\u001b[0m \u001b[1;32min\u001b[0m \u001b[0mL\u001b[0m\u001b[1;33m:\u001b[0m\u001b[1;33m\u001b[0m\u001b[1;33m\u001b[0m\u001b[0m\n\u001b[1;32m---> 12\u001b[1;33m         \u001b[1;32mfor\u001b[0m \u001b[0mj\u001b[0m \u001b[1;32min\u001b[0m \u001b[1;33m(\u001b[0m\u001b[0mi\u001b[0m\u001b[1;33m+\u001b[0m\u001b[1;36m1\u001b[0m\u001b[1;33m,\u001b[0m \u001b[0mlen\u001b[0m\u001b[1;33m(\u001b[0m\u001b[0mL\u001b[0m\u001b[1;33m)\u001b[0m\u001b[1;33m)\u001b[0m\u001b[1;33m:\u001b[0m\u001b[1;33m\u001b[0m\u001b[1;33m\u001b[0m\u001b[0m\n\u001b[0m\u001b[0;32m     13\u001b[0m             \u001b[0mmin_dist\u001b[0m \u001b[1;33m=\u001b[0m \u001b[1;36m1\u001b[0m\u001b[1;33m\u001b[0m\u001b[1;33m\u001b[0m\u001b[0m\n\u001b[0;32m     14\u001b[0m             \u001b[0mdict\u001b[0m\u001b[1;33m[\u001b[0m\u001b[1;33m(\u001b[0m\u001b[0mi\u001b[0m\u001b[1;33m,\u001b[0m\u001b[0mj\u001b[0m\u001b[1;33m)\u001b[0m\u001b[1;33m]\u001b[0m \u001b[1;33m=\u001b[0m \u001b[0mabs\u001b[0m\u001b[1;33m(\u001b[0m\u001b[0malp\u001b[0m\u001b[1;33m.\u001b[0m\u001b[0mindex\u001b[0m\u001b[1;33m(\u001b[0m\u001b[0mi\u001b[0m\u001b[1;33m)\u001b[0m \u001b[1;33m-\u001b[0m \u001b[0malp\u001b[0m\u001b[1;33m.\u001b[0m\u001b[0mindex\u001b[0m\u001b[1;33m(\u001b[0m\u001b[0mj\u001b[0m\u001b[1;33m)\u001b[0m\u001b[1;33m)\u001b[0m\u001b[1;33m\u001b[0m\u001b[1;33m\u001b[0m\u001b[0m\n",
      "\u001b[1;31mTypeError\u001b[0m: can only concatenate str (not \"int\") to str"
     ]
    }
   ],
   "source": [
    "def job_31(x):\n",
    "    L=[]\n",
    "    dict={}\n",
    "    alp = ['a','b','c','d','e','f','g','h','i','j','k','l','m','n','o','p','r','s','t','u','v','w','x','y','z']\n",
    "    x = input(\"Enter a name\")\n",
    "    for e in x:\n",
    "        if e not in alp:\n",
    "            print(\"wrong name\")\n",
    "            break\n",
    "        L.append(e)\n",
    "    for i in L:\n",
    "        for j in (i+1, len(L)):\n",
    "            min_dist = 1\n",
    "            dict[(i,j)] = abs(alp.index(i) - alp.index(j))\n",
    "            dist = abs(alp.index(i) - alp.index(j))\n",
    "            if dist<min_dist:\n",
    "                min_dist = dist\n",
    "    for cle,valeur in dict.items():\n",
    "        if valeur == min_dist:\n",
    "            (k,l) = cle\n",
    "            print((k,l))\n",
    "job_31(\"abzft\")  \n",
    "\n",
    "\n",
    "            \n",
    "        \n",
    "        \n",
    "        \n",
    "        \n",
    "            \n",
    "            \n",
    "    "
   ]
  },
  {
   "cell_type": "code",
   "execution_count": 168,
   "id": "b0a92a69-214c-41f1-9db0-c6fda528de28",
   "metadata": {},
   "outputs": [
    {
     "name": "stdin",
     "output_type": "stream",
     "text": [
      "Enter a name taha\n"
     ]
    },
    {
     "name": "stdout",
     "output_type": "stream",
     "text": [
      "['t', 'a', 'h', 'a']\n"
     ]
    }
   ],
   "source": [
    "L=[]\n",
    "dict = ['a','b','c','d','e','f','g','h','i','j','k','l','m','n','o','p','r','s','t','u','v','w','x','y','z']\n",
    "x = input(\"Enter a name\")\n",
    "for e in x:\n",
    "    if e not in dict:\n",
    "        print(\"wrong name\")\n",
    "        break\n",
    "    L.append(e)\n",
    "print(L)"
   ]
  },
  {
   "cell_type": "code",
   "execution_count": 179,
   "id": "47a81188-5fc0-4e8d-b669-36bb63aee6c1",
   "metadata": {},
   "outputs": [
    {
     "data": {
      "text/plain": [
       "\"['y', 'a', 's', 's', 'e', 'r']\""
      ]
     },
     "execution_count": 179,
     "metadata": {},
     "output_type": "execute_result"
    }
   ],
   "source": []
  }
 ],
 "metadata": {
  "kernelspec": {
   "display_name": "Python 3",
   "language": "python",
   "name": "python3"
  },
  "language_info": {
   "codemirror_mode": {
    "name": "ipython",
    "version": 3
   },
   "file_extension": ".py",
   "mimetype": "text/x-python",
   "name": "python",
   "nbconvert_exporter": "python",
   "pygments_lexer": "ipython3",
   "version": "3.8.8"
  }
 },
 "nbformat": 4,
 "nbformat_minor": 5
}
