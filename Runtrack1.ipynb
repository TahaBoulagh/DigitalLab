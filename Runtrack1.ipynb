{
 "cells": [
  {
   "cell_type": "markdown",
   "id": "202bd542-2b7d-4516-88e0-238f045e0a1a",
   "metadata": {},
   "source": [
    "## Job 7"
   ]
  },
  {
   "cell_type": "raw",
   "id": "ee64adff",
   "metadata": {},
   "source": [
    "Créez une fonction nommée Add. Cette fonction devra prendre 2 nombres entiers en\n",
    "paramètres et retourner la somme de ces 2 entiers.\n",
    "Depuis votre programme, appelez cette fonction plusieurs fois en y passant des\n",
    "paramètres différents et affichez ces résultats"
   ]
  },
  {
   "cell_type": "code",
   "execution_count": 1,
   "id": "25a1bc90-84cc-472a-a32f-50fcfaf26b43",
   "metadata": {},
   "outputs": [],
   "source": [
    "def add(n,m):\n",
    "    return n+m\n"
   ]
  },
  {
   "cell_type": "markdown",
   "id": "4d05169e-7198-47e1-9147-6a06bea8d243",
   "metadata": {},
   "source": [
    "## Job 11"
   ]
  },
  {
   "cell_type": "raw",
   "id": "43138ad6",
   "metadata": {},
   "source": [
    "Créez un programme qui demande à l’utilisateur de renseigner son prénom via l’invite de\n",
    "commande grâce à la fonction input(). Le programme doit alors afficher dans le\n",
    "terminal “Hello xx !” ou xx est le prénom entré par l’utilisateur."
   ]
  },
  {
   "cell_type": "code",
   "execution_count": 2,
   "id": "4034ef25-e0ae-44d3-8495-b109b88af5e7",
   "metadata": {},
   "outputs": [
    {
     "name": "stdout",
     "output_type": "stream",
     "text": [
      "renseigner ton prénomprenom\n",
      "Hello prenom!\n"
     ]
    }
   ],
   "source": [
    "xx = input(\"renseigner ton prénom\")\n",
    "print(\"Hello \" + xx +\"!\")"
   ]
  },
  {
   "cell_type": "markdown",
   "id": "36e90142-6f21-4160-938b-0fadde5c430d",
   "metadata": {},
   "source": [
    "## Job 13"
   ]
  },
  {
   "cell_type": "raw",
   "id": "55154a80",
   "metadata": {},
   "source": [
    "Créez un programme qui demande 5 fois à l’utilisateur de renseigner un nombre entier.\n",
    "Stockez ces nombres entiers dans une liste puis triez-les par ordre croissant avant de\n",
    "les afficher, dans l’ordre, dans le terminal"
   ]
  },
  {
   "cell_type": "code",
   "execution_count": null,
   "id": "2bd78f30-adac-4a66-9932-be792b31f040",
   "metadata": {},
   "outputs": [],
   "source": [
    "L = []\n",
    "for i in range(0,5):\n",
    "    x = input(\"entrer un nombre entier\")\n",
    "    L.append(x)\n",
    "L.sort() \n",
    "print(L)"
   ]
  },
  {
   "cell_type": "markdown",
   "id": "b6e45e77-c244-4e32-826d-9313d88ce746",
   "metadata": {},
   "source": [
    "## Job 17"
   ]
  },
  {
   "cell_type": "raw",
   "id": "beb63746",
   "metadata": {},
   "source": [
    "Écrire un programme qui itère les nombres entiers de 1 à 100. Pour les multiples de\n",
    "trois, afficher \"Fizz\" au lieu du nombre et pour les multiples de cinq afficher \"Buzz\". Pour\n",
    "les nombres qui sont des multiples de trois et cinq, afficher \"FizzBuzz\".\n"
   ]
  },
  {
   "cell_type": "code",
   "execution_count": 3,
   "id": "c9f6d4d2-8025-4c97-97de-1d2707809915",
   "metadata": {},
   "outputs": [
    {
     "name": "stdout",
     "output_type": "stream",
     "text": [
      "[1, 2, 'Fizz', 3, 4, 'Buzz', 'Fizz', 6, 7, 8, 'Fizz', 9, 'Buzz', 11, 'Fizz', 12, 13, 14, 'FizzBuzz', 'Fizz', 'Buzz', 16, 17, 'Fizz', 18, 19, 'Buzz', 'Fizz', 21, 22, 23, 'Fizz', 24, 'Buzz', 26, 'Fizz', 27, 28, 29, 'FizzBuzz', 'Fizz', 'Buzz', 31, 32, 'Fizz', 33, 34, 'Buzz', 'Fizz', 36, 37, 38, 'Fizz', 39, 'Buzz', 41, 'Fizz', 42, 43, 44, 'FizzBuzz', 'Fizz', 'Buzz', 46, 47, 'Fizz', 48, 49, 'Buzz', 'Fizz', 51, 52, 53, 'Fizz', 54, 'Buzz', 56, 'Fizz', 57, 58, 59, 'FizzBuzz', 'Fizz', 'Buzz', 61, 62, 'Fizz', 63, 64, 'Buzz', 'Fizz', 66, 67, 68, 'Fizz', 69, 'Buzz', 71, 'Fizz', 72, 73, 74, 'FizzBuzz', 'Fizz', 'Buzz', 76, 77, 'Fizz', 78, 79, 'Buzz', 'Fizz', 81, 82, 83, 'Fizz', 84, 'Buzz', 86, 'Fizz', 87, 88, 89, 'FizzBuzz', 'Fizz', 'Buzz', 91, 92, 'Fizz', 93, 94, 'Buzz', 'Fizz', 96, 97, 98, 'Fizz', 99, 'Buzz']\n"
     ]
    }
   ],
   "source": [
    "L=[]\n",
    "for i in range (1,101):\n",
    "    if i%3 ==0 and i%5 ==0:\n",
    "        L.append(\"FizzBuzz\")\n",
    "    if i%3 ==0:\n",
    "        L.append(\"Fizz\")\n",
    "    if i%5 == 0:\n",
    "        L.append(\"Buzz\")\n",
    "    else:\n",
    "        L.append(i)\n",
    "print(L)        \n",
    "        "
   ]
  },
  {
   "cell_type": "markdown",
   "id": "8d1c5b0b-0d42-4f59-ad16-42b477d46aee",
   "metadata": {},
   "source": [
    "## Job 19"
   ]
  },
  {
   "cell_type": "raw",
   "id": "b83baa78",
   "metadata": {},
   "source": [
    "Écrire un programme qui affiche dans le terminal un rectangle avec des ‘-’ et des ‘|’ en\n",
    "fonction des paramètres d’entrées, (width, height),"
   ]
  },
  {
   "cell_type": "code",
   "execution_count": 43,
   "id": "9a2fcdb3-24ab-4fee-833c-b35b50dcd038",
   "metadata": {},
   "outputs": [
    {
     "name": "stdout",
     "output_type": "stream",
     "text": [
      "|----------|\n",
      "|          |\n",
      "|----------|\n"
     ]
    }
   ],
   "source": [
    "def draw_rectangle(n,m):\n",
    "    for i in range(m):\n",
    "        if i == 0 :\n",
    "            print(\"|\" + n*\"-\" + \"|\")\n",
    "        elif i == m-1 :\n",
    "            print(\"|\" + n*\"-\" + \"|\")\n",
    "        else:\n",
    "            print(\"|\" + n*\" \" + \"|\")\n",
    "\n",
    "draw_rectangle(10,3)    \n",
    " \n",
    "       "
   ]
  },
  {
   "cell_type": "markdown",
   "id": "0c47067c-6cf8-40bd-a7c7-c5e6d9a0e067",
   "metadata": {},
   "source": [
    "## Job 23"
   ]
  },
  {
   "cell_type": "raw",
   "id": "f17a2644",
   "metadata": {},
   "source": [
    "Écrire un programme qui affiche dans le terminal un triangle avec des ‘_’, des ‘\\’ et des ‘/’\n",
    "en fonction des paramètres d’entrées, (height),"
   ]
  },
  {
   "cell_type": "code",
   "execution_count": 170,
   "id": "30d01e30-ee64-4b77-b66a-55e1f36d22d8",
   "metadata": {},
   "outputs": [
    {
     "name": "stdout",
     "output_type": "stream",
     "text": [
      "     /\\\n",
      "    /  \\\n",
      "   /    \\\n",
      "  /      \\\n",
      " /________\\\n"
     ]
    }
   ],
   "source": [
    "def draw_triangle(n):\n",
    "    for i in range(n):\n",
    "        if i <= n-2:\n",
    "            print((n-i)*\" \"+\"/\" + 2*i*\" \" + \"\\\\\")\n",
    "        else:\n",
    "            print((n-i)*\" \"+\"/\" + 2*i*\"_\" + \"\\\\\")\n",
    "            \n",
    "       \n",
    "\n",
    "draw_triangle(5)                  \n"
   ]
  },
  {
   "cell_type": "markdown",
   "id": "46ee337e-9ba6-4754-b191-c006d01500d0",
   "metadata": {},
   "source": [
    "## Job 29"
   ]
  },
  {
   "cell_type": "raw",
   "id": "7f9328ff",
   "metadata": {},
   "source": [
    "Luke Skywalker, un professeur de Math, fait passer un test et décide de noter ses élèves\n",
    "sur une échelle allant de 0 à 100 inclus.\n",
    "Si un étudiant obtient moins de 40 sur 100, il échoue au test.\n",
    "S'il a plus de 40, il réussit le test. Luke est un professeur fort sympathique et décide\n",
    "donc d’arrondir à la hausse les notes des étudiants ayant réussi le test. Mais Luke n’est\n",
    "quand même pas trop gentil. Cet arrondi à la hausse ne bénéficiera qu’aux étudiants\n",
    "remplissant certains critères car, tout de même, il ne faut pas exagérer, sans blague.\n",
    "Le critère est simple: Si un étudiant a eu une note de moins de strictement 3 points de\n",
    "son prochain multiple de 5, alors sa note est arrondie à ce multiple de 5. Par exemple,\n",
    "un 83 sera arrondi à 85 alors qu’un 82 restera un 82.\n"
   ]
  },
  {
   "cell_type": "code",
   "execution_count": 156,
   "id": "95095365-cc64-41d5-a9bc-d376b73aa407",
   "metadata": {},
   "outputs": [
    {
     "data": {
      "text/plain": [
       "[80, 82, 85]"
      ]
     },
     "execution_count": 156,
     "metadata": {},
     "output_type": "execute_result"
    }
   ],
   "source": [
    "def arrondie(L):\n",
    "    L_arrondie=[]\n",
    "    for e in L:\n",
    "        if (e+1) % 5 ==0:\n",
    "            j= e +1\n",
    "        elif (e+2) % 5 ==0:\n",
    "            j = e+2\n",
    "        else :\n",
    "            j = e\n",
    "        L_arrondie.append(j) \n",
    "    return L_arrondie   \n",
    "arrondie([80,82,85])        "
   ]
  },
  {
   "cell_type": "markdown",
   "id": "eaaf62c1-9b97-4c5b-870f-ba8bc4d24f0e",
   "metadata": {},
   "source": [
    "## Job 31"
   ]
  },
  {
   "cell_type": "raw",
   "id": "fded8600",
   "metadata": {},
   "source": [
    "Créer un programme qui demandera à l’utilisateur de renseigner un mot et un seul, sans\n",
    "espace ni aucun autre caractère que les 26 lettres de l’alphabet (sans accent ni\n",
    "majuscule).\n",
    "Votre programme devra modifier ce mot, en y changeant de place certains caractères\n",
    "(ou tous) afin de donner un mot plus “loin” dans l’ordre alphabétique que le mot\n",
    "renseigné par l'utilisateur.\n",
    "Attention: Le nouveau mot doit être le mot le plus proche possible, dans l’ordre\n",
    "alphabétique, du mot original !\n",
    "Par exemple, “abcde” donnerait “abced”. “acedb” est aussi “valide” mais n’est PAS le\n",
    "plus proche du mot original dans l’ordre alphabétique."
   ]
  },
  {
   "cell_type": "code",
   "execution_count": 4,
   "id": "62dd74ca-7822-441f-a697-a64874382f9b",
   "metadata": {},
   "outputs": [],
   "source": [
    "def job_31(x):\n",
    "    L=[]\n",
    "    dict={}\n",
    "    alp = ['a','b','c','d','e','f','g','h','i','j','k','l','m','n','o','p','r','s','t','u','v','w','x','y','z']\n",
    "    x = input(\"Enter a name\")\n",
    "    for e in x:\n",
    "        if e not in alp:\n",
    "            print(\"wrong name\")\n",
    "            break\n",
    "        L.append(e)\n",
    "    for i in L:\n",
    "        for j in (i+1, len(L)):\n",
    "            min_dist = 1\n",
    "            dict[(i,j)] = abs(alp.index(i) - alp.index(j))\n",
    "            dist = abs(alp.index(i) - alp.index(j))\n",
    "            if dist<min_dist:\n",
    "                min_dist = dist\n",
    "    for cle,valeur in dict.items():\n",
    "        if valeur == min_dist:\n",
    "            (k,l) = cle\n",
    "            print((k,l))\n",
    "  \n",
    "\n",
    "\n",
    "            \n",
    "        \n",
    "        \n",
    "        \n",
    "        \n",
    "            \n",
    "            \n",
    "    "
   ]
  }
 ],
 "metadata": {
  "kernelspec": {
   "display_name": "Python 3",
   "language": "python",
   "name": "python3"
  },
  "language_info": {
   "codemirror_mode": {
    "name": "ipython",
    "version": 3
   },
   "file_extension": ".py",
   "mimetype": "text/x-python",
   "name": "python",
   "nbconvert_exporter": "python",
   "pygments_lexer": "ipython3",
   "version": "3.8.8"
  }
 },
 "nbformat": 4,
 "nbformat_minor": 5
}
