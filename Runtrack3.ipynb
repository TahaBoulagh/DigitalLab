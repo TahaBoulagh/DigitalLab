{
 "cells": [
  {
   "cell_type": "markdown",
   "id": "c43193cc",
   "metadata": {},
   "source": [
    "### Job 01"
   ]
  },
  {
   "cell_type": "raw",
   "id": "6ea10f0e",
   "metadata": {},
   "source": [
    "Créer un programme qui demande à l'utilisateur de renseigner une chaîne de caractères\n",
    "et qui écrit cette chaine de caractère dans un fichier “output.txt”."
   ]
  },
  {
   "cell_type": "code",
   "execution_count": 2,
   "id": "ade79be2",
   "metadata": {},
   "outputs": [
    {
     "name": "stdout",
     "output_type": "stream",
     "text": [
      "Entrer un texte nzeofkzek\n"
     ]
    }
   ],
   "source": [
    "texte = input(\"Entrer un texte\")\n",
    "with open(\"output.txt\", \"w\") as file:\n",
    "    file.write(texte)\n",
    "file.close()    "
   ]
  },
  {
   "cell_type": "markdown",
   "id": "df376db0",
   "metadata": {},
   "source": [
    "### Job 0.3"
   ]
  },
  {
   "cell_type": "raw",
   "id": "05e566dc",
   "metadata": {},
   "source": [
    "Créer un programme qui lit le contenu du fichier “output.txt” et qui l’affiche dans le\n",
    "terminal.\n"
   ]
  },
  {
   "cell_type": "code",
   "execution_count": 3,
   "id": "6387d537",
   "metadata": {},
   "outputs": [
    {
     "data": {
      "text/plain": [
       "' nzeofkzek'"
      ]
     },
     "execution_count": 3,
     "metadata": {},
     "output_type": "execute_result"
    }
   ],
   "source": [
    "file = open(\"output.txt\", 'r')\n",
    "file.readline()"
   ]
  },
  {
   "cell_type": "markdown",
   "id": "7650132f",
   "metadata": {},
   "source": [
    "### Job01"
   ]
  },
  {
   "cell_type": "raw",
   "id": "c3aaa090",
   "metadata": {},
   "source": [
    "Créer un programme qui parcourt le contenu du fichier “domains.xml” et qui compte le\n",
    "nombre d’extension de domaines qui s’y trouvent (.com, .net, etc …)."
   ]
  },
  {
   "cell_type": "code",
   "execution_count": 100,
   "id": "9dff20f6",
   "metadata": {},
   "outputs": [
    {
     "name": "stdout",
     "output_type": "stream",
     "text": [
      "40\n"
     ]
    }
   ],
   "source": [
    "file = open(\"C:/Users/HP/Downloads/domains.xml\") \n",
    "L = []\n",
    "for line in file:\n",
    "    if(line[12:].startswith('<column name=\"domain\">')):\n",
    "        line_1 = line[13:]\n",
    "        line_2 = line_1[line_1.index('.'):line_1.index('<')]\n",
    "        if line_2 not in L:\n",
    "            L.append(line_2)\n",
    "        #if line_2 not in L:\n",
    "print(len(L))            \n"
   ]
  },
  {
   "cell_type": "markdown",
   "id": "1fa37f14",
   "metadata": {},
   "source": [
    "### Job 01"
   ]
  },
  {
   "cell_type": "raw",
   "id": "6e3809bb",
   "metadata": {},
   "source": [
    "Créer un programme qui parcourt le contenu du fichier “data.txt” et qui compte le\n",
    "nombre de mots (sans caractère spéciaux) qui s’y trouvent."
   ]
  },
  {
   "cell_type": "code",
   "execution_count": 114,
   "id": "982553b0",
   "metadata": {},
   "outputs": [
    {
     "name": "stdout",
     "output_type": "stream",
     "text": [
      "1173362\n"
     ]
    }
   ],
   "source": [
    "file = open(\"C:/Users/HP/Downloads/data.txt\")\n",
    "x = 0\n",
    "for line in file:\n",
    "    for mot in line:\n",
    "        if mot==' ':\n",
    "            x = x+1\n",
    "            \n",
    "print(x) \n",
    "file.close()"
   ]
  },
  {
   "cell_type": "markdown",
   "id": "be350b12",
   "metadata": {},
   "source": [
    "### Job 02"
   ]
  },
  {
   "cell_type": "raw",
   "id": "9118066d",
   "metadata": {},
   "source": [
    "Créer un programme qui demande à l’utilisateur de renseigner un nombre entier. Le\n",
    "programme devra alors parcourir le contenu du fichier “data.txt” compter le nombre de\n",
    "mots de la taille renseignée qui s’y trouvent.\n"
   ]
  },
  {
   "cell_type": "code",
   "execution_count": 151,
   "id": "27ab53d9",
   "metadata": {},
   "outputs": [
    {
     "name": "stdout",
     "output_type": "stream",
     "text": [
      "5\n",
      "165927\n"
     ]
    }
   ],
   "source": [
    "fichier = open(\"C:/Users/HP/Downloads/data.txt\", \"r\")\n",
    "data = fichier.read()\n",
    "\n",
    "stop_words = [',','!','?',';','.',':','\\n','+','/',')','*','§'] \n",
    "\n",
    "x = input()\n",
    "for stop_word in stop_words:\n",
    "    data = data.replace(stop_word, '')\n",
    "liste_de_mots = data.split(' ') \n",
    "compteur = 0\n",
    "for mot in liste_mots:\n",
    "    if len(mot) == taille_mot:\n",
    "        compteur += 1\n",
    "print(compteur)        \n",
    "      \n",
    "        "
   ]
  },
  {
   "cell_type": "markdown",
   "id": "b9000ca5",
   "metadata": {},
   "source": [
    "### Job 03"
   ]
  },
  {
   "cell_type": "raw",
   "id": "ddf5e6e6",
   "metadata": {},
   "source": [
    "Écrire un programme qui parcourt le fichier “data.txt” et qui compte le nombre\n",
    "d'occurrence de chaque lettre (Minuscules et Capitales comptent pour la même lettre).\n",
    "A l’aide du module MatPlotLib, générer un histogramme représentant le pourcentage\n",
    "d’apparition de chaque lettre."
   ]
  },
  {
   "cell_type": "code",
   "execution_count": 186,
   "id": "4f0e81e3",
   "metadata": {},
   "outputs": [],
   "source": [
    "fichier = open(\"C:/Users/HP/Downloads/data.txt\", \"r\")\n",
    "data = fichier.read()\n",
    "\n",
    "stop_words = [',','!','?',';','.',':','\\n','+','/',')','*','§','-','\\xad','²','«','±','¬','©','º','’'] \n",
    "for stop_word in stop_words:\n",
    "    data = data.replace(stop_word, '')\n",
    "    data = data.lower()\n",
    "liste_de_mots = data.split(' ') \n",
    "liste_de_lettres=[]\n",
    "for e in liste_de_mots:\n",
    "    for j in range(len(e)):\n",
    "        liste_de_lettres.append(e[j])\n",
    "from collections import Counter\n",
    "occurence = dict(Counter(liste_de_lettres))\n",
    "       "
   ]
  },
  {
   "cell_type": "code",
   "execution_count": 196,
   "id": "1a430178",
   "metadata": {},
   "outputs": [
    {
     "data": {
      "text/plain": [
       "<BarContainer object of 29 artists>"
      ]
     },
     "execution_count": 196,
     "metadata": {},
     "output_type": "execute_result"
    },
    {
     "data": {
      "image/png": "[encoded data removed]",
      "text/plain": [
       "<Figure size 432x288 with 1 Axes>"
      ]
     },
     "metadata": {
      "needs_background": "light"
     },
     "output_type": "display_data"
    }
   ],
   "source": [
    "import matplotlib.pyplot as plt\n",
    "somme = sum(occurence.values())\n",
    "for e in occurence:\n",
    "    occurence[e] = (occurence[e]/somme) * 100\n",
    "plt.bar(x= occurence.keys(), height = occurence.values())   "
   ]
  },
  {
   "cell_type": "markdown",
   "id": "d789ba34",
   "metadata": {},
   "source": [
    "### Job05"
   ]
  },
  {
   "cell_type": "code",
   "execution_count": null,
   "id": "37c91da4",
   "metadata": {},
   "outputs": [],
   "source": [
    "Écrire un programme qui parcourt le fichier “data.txt” et qui compte le nombre de mots\n",
    "de chaque taille. A l’aide du module MatPlotLib, générer un histogramme représentant\n",
    "le pourcentage d’apparition de chaque taille de mot."
   ]
  },
  {
   "cell_type": "code",
   "execution_count": 207,
   "id": "3175d105",
   "metadata": {
    "scrolled": true
   },
   "outputs": [
    {
     "data": {
      "text/plain": [
       "<BarContainer object of 19 artists>"
      ]
     },
     "execution_count": 207,
     "metadata": {},
     "output_type": "execute_result"
    },
    {
     "data": {
      "image/png": "[encoded data removed]",
      "text/plain": [
       "<Figure size 432x288 with 1 Axes>"
      ]
     },
     "metadata": {
      "needs_background": "light"
     },
     "output_type": "display_data"
    }
   ],
   "source": [
    "fichier = open(\"C:/Users/HP/Downloads/data.txt\", \"r\")\n",
    "data = fichier.read()\n",
    "l = {}\n",
    "stop_words = [',','!','?',';','.',':','\\n','+','/',')','*','§','-','\\xad','²','«','±','¬','©','º','’'] \n",
    "for stop_word in stop_words:\n",
    "    data = data.replace(stop_word, '')\n",
    "    data = data.lower()\n",
    "liste_de_mots = data.split(' ') \n",
    "for mot in liste_de_mots:\n",
    "    l[mot] = len(mot)\n",
    "\n",
    "occurence = dict(Counter(l.values()))\n",
    "import matplotlib.pyplot as plt\n",
    "somme = sum(occurence.values())\n",
    "for e in occurence:\n",
    "    occurence[e] = (occurence[e]/somme) * 100\n",
    "plt.bar(x= occurence.keys(), height = occurence.values())"
   ]
  },
  {
   "cell_type": "markdown",
   "id": "f6a6a60d",
   "metadata": {},
   "source": [
    "### Job 08"
   ]
  },
  {
   "cell_type": "raw",
   "id": "42ef1684",
   "metadata": {},
   "source": [
    "Écrire un programme qui parcourt le fichier “data.txt” et qui compte le nombre\n",
    "d'occurrence de chaque lettre (Minuscules et Capitales comptent pour la même lettre)\n",
    "en début de mot. A l’aide du module MatPlotLib, générer un histogramme représentant\n",
    "le pourcentage de présence de chaque lettre en début de mot.\n"
   ]
  },
  {
   "cell_type": "code",
   "execution_count": 250,
   "id": "c29a7b48",
   "metadata": {},
   "outputs": [
    {
     "data": {
      "text/plain": [
       "<BarContainer object of 25 artists>"
      ]
     },
     "execution_count": 250,
     "metadata": {},
     "output_type": "execute_result"
    },
    {
     "data": {
      "image/png": "[encoded data removed]",
      "text/plain": [
       "<Figure size 432x288 with 1 Axes>"
      ]
     },
     "metadata": {
      "needs_background": "light"
     },
     "output_type": "display_data"
    }
   ],
   "source": [
    "fichier = open(\"C:/Users/HP/Downloads/data.txt\", \"r\")\n",
    "data = fichier.read()\n",
    "\n",
    "stop_words = [',','!','?',';','.',':','\\n','+','/',')','*','§','-','\\xad','²','«','±','¬','©','º','’'] \n",
    "for stop_word in stop_words:\n",
    "    data = data.replace(stop_word, '')\n",
    "    data = data.lower()\n",
    "liste_de_mots = data.split(' ') \n",
    "new_liste_de_mots=[]\n",
    "for e in liste_de_mots:\n",
    "    if e != \"\":\n",
    "        new_liste_de_mots.append(e[0])\n",
    "        \n",
    "occurence = dict(Counter(new_liste_de_mots))\n",
    "import matplotlib.pyplot as plt\n",
    "somme = sum(occurence.values())\n",
    "for e in occurence:\n",
    "    occurence[e] = (occurence[e]/somme) * 100\n",
    "plt.bar(x= occurence.keys(), height = occurence.values())\n",
    "    \n",
    "\n",
    "  \n"
   ]
  }
 ],
 "metadata": {
  "kernelspec": {
   "display_name": "Python 3",
   "language": "python",
   "name": "python3"
  },
  "language_info": {
   "codemirror_mode": {
    "name": "ipython",
    "version": 3
   },
   "file_extension": ".py",
   "mimetype": "text/x-python",
   "name": "python",
   "nbconvert_exporter": "python",
   "pygments_lexer": "ipython3",
   "version": "3.8.8"
  }
 },
 "nbformat": 4,
 "nbformat_minor": 5
}
